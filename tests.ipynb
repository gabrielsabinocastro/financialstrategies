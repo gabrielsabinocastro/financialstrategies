{
 "cells": [
  {
   "cell_type": "code",
   "execution_count": 30,
   "metadata": {},
   "outputs": [
    {
     "name": "stdout",
     "output_type": "stream",
     "text": [
      "The autoreload extension is already loaded. To reload it, use:\n",
      "  %reload_ext autoreload\n"
     ]
    }
   ],
   "source": [
    "import yfinance as yf\n",
    "import pandas_datareader.data as web\n",
    "import pandas as pd\n",
    "import numpy as np\n",
    "\n",
    "from dateutil.relativedelta import relativedelta as rltd\n",
    "import datetime as dt\n",
    "\n",
    "from processDataYF import DataYFinance\n",
    "import quantiTools as qt\n",
    "\n",
    "%load_ext autoreload\n",
    "%autoreload 2\n"
   ]
  },
  {
   "cell_type": "code",
   "execution_count": 37,
   "metadata": {},
   "outputs": [],
   "source": [
    "tickers = ['ABEV3.SA', 'BBDC4.SA', 'MGLU3.SA','ITSA4.SA', \"JHSF3.SA\", \"EZTC3.SA\",\n",
    "            \"BEEF3.SA\", \"JBSS3.SA\", \"BBSE3.SA\", \"TAEE3.SA\", \"MULT3.SA\", \"PETR4.SA\", \"VALE3.SA\",'^BVSP']\n",
    "\n",
    "\n",
    "endDate = dt.date.today()\n",
    "\n",
    "startDate = endDate - rltd(months=12)"
   ]
  },
  {
   "cell_type": "code",
   "execution_count": 32,
   "metadata": {},
   "outputs": [
    {
     "name": "stdout",
     "output_type": "stream",
     "text": [
      "2021-08-14 2022-08-14\n"
     ]
    }
   ],
   "source": [
    "print(startDate, endDate)"
   ]
  },
  {
   "cell_type": "code",
   "execution_count": 33,
   "metadata": {},
   "outputs": [
    {
     "name": "stdout",
     "output_type": "stream",
     "text": [
      "[*********************100%***********************]  14 of 14 completed\n"
     ]
    }
   ],
   "source": [
    "# MODO 0001 #\n",
    "\n",
    "dados0002 = yf.download(tickers, startDate, endDate)"
   ]
  },
  {
   "cell_type": "code",
   "execution_count": 34,
   "metadata": {},
   "outputs": [
    {
     "data": {
      "text/html": [
       "<div>\n",
       "<style scoped>\n",
       "    .dataframe tbody tr th:only-of-type {\n",
       "        vertical-align: middle;\n",
       "    }\n",
       "\n",
       "    .dataframe tbody tr th {\n",
       "        vertical-align: top;\n",
       "    }\n",
       "\n",
       "    .dataframe thead th {\n",
       "        text-align: right;\n",
       "    }\n",
       "</style>\n",
       "<table border=\"1\" class=\"dataframe\">\n",
       "  <thead>\n",
       "    <tr style=\"text-align: right;\">\n",
       "      <th></th>\n",
       "      <th>ABEV3.SA</th>\n",
       "      <th>BBDC4.SA</th>\n",
       "      <th>BBSE3.SA</th>\n",
       "      <th>BEEF3.SA</th>\n",
       "      <th>EZTC3.SA</th>\n",
       "      <th>ITSA4.SA</th>\n",
       "      <th>JBSS3.SA</th>\n",
       "      <th>JHSF3.SA</th>\n",
       "      <th>MGLU3.SA</th>\n",
       "      <th>MULT3.SA</th>\n",
       "      <th>PETR4.SA</th>\n",
       "      <th>TAEE3.SA</th>\n",
       "      <th>VALE3.SA</th>\n",
       "      <th>^BVSP</th>\n",
       "    </tr>\n",
       "    <tr>\n",
       "      <th>Date</th>\n",
       "      <th></th>\n",
       "      <th></th>\n",
       "      <th></th>\n",
       "      <th></th>\n",
       "      <th></th>\n",
       "      <th></th>\n",
       "      <th></th>\n",
       "      <th></th>\n",
       "      <th></th>\n",
       "      <th></th>\n",
       "      <th></th>\n",
       "      <th></th>\n",
       "      <th></th>\n",
       "      <th></th>\n",
       "    </tr>\n",
       "  </thead>\n",
       "  <tbody>\n",
       "    <tr>\n",
       "      <th>2021-08-16</th>\n",
       "      <td>NaN</td>\n",
       "      <td>NaN</td>\n",
       "      <td>NaN</td>\n",
       "      <td>NaN</td>\n",
       "      <td>NaN</td>\n",
       "      <td>NaN</td>\n",
       "      <td>NaN</td>\n",
       "      <td>NaN</td>\n",
       "      <td>NaN</td>\n",
       "      <td>NaN</td>\n",
       "      <td>NaN</td>\n",
       "      <td>NaN</td>\n",
       "      <td>NaN</td>\n",
       "      <td>NaN</td>\n",
       "    </tr>\n",
       "    <tr>\n",
       "      <th>2021-08-17</th>\n",
       "      <td>-0.004878</td>\n",
       "      <td>-0.003906</td>\n",
       "      <td>-0.013440</td>\n",
       "      <td>-0.024420</td>\n",
       "      <td>-0.022099</td>\n",
       "      <td>-0.013193</td>\n",
       "      <td>-0.021137</td>\n",
       "      <td>-0.049563</td>\n",
       "      <td>-0.005664</td>\n",
       "      <td>-0.022635</td>\n",
       "      <td>-0.000003</td>\n",
       "      <td>0.006798</td>\n",
       "      <td>-0.016544</td>\n",
       "      <td>-0.010706</td>\n",
       "    </tr>\n",
       "    <tr>\n",
       "      <th>2021-08-18</th>\n",
       "      <td>0.009191</td>\n",
       "      <td>-0.006536</td>\n",
       "      <td>-0.007063</td>\n",
       "      <td>0.011264</td>\n",
       "      <td>0.007667</td>\n",
       "      <td>0.002674</td>\n",
       "      <td>0.007323</td>\n",
       "      <td>0.024540</td>\n",
       "      <td>-0.024340</td>\n",
       "      <td>-0.012506</td>\n",
       "      <td>-0.008879</td>\n",
       "      <td>-0.010503</td>\n",
       "      <td>-0.033551</td>\n",
       "      <td>-0.010695</td>\n",
       "    </tr>\n",
       "    <tr>\n",
       "      <th>2021-08-19</th>\n",
       "      <td>0.043716</td>\n",
       "      <td>-0.002193</td>\n",
       "      <td>0.003557</td>\n",
       "      <td>0.037129</td>\n",
       "      <td>0.008811</td>\n",
       "      <td>-0.008000</td>\n",
       "      <td>0.038004</td>\n",
       "      <td>0.016467</td>\n",
       "      <td>0.005839</td>\n",
       "      <td>0.008912</td>\n",
       "      <td>-0.005599</td>\n",
       "      <td>0.003791</td>\n",
       "      <td>-0.057055</td>\n",
       "      <td>0.004475</td>\n",
       "    </tr>\n",
       "    <tr>\n",
       "      <th>2021-08-20</th>\n",
       "      <td>0.020361</td>\n",
       "      <td>-0.005714</td>\n",
       "      <td>0.005570</td>\n",
       "      <td>-0.007160</td>\n",
       "      <td>0.024613</td>\n",
       "      <td>0.001792</td>\n",
       "      <td>0.009551</td>\n",
       "      <td>0.013255</td>\n",
       "      <td>-0.004749</td>\n",
       "      <td>0.008833</td>\n",
       "      <td>-0.001502</td>\n",
       "      <td>0.019637</td>\n",
       "      <td>0.000410</td>\n",
       "      <td>0.007579</td>\n",
       "    </tr>\n",
       "    <tr>\n",
       "      <th>...</th>\n",
       "      <td>...</td>\n",
       "      <td>...</td>\n",
       "      <td>...</td>\n",
       "      <td>...</td>\n",
       "      <td>...</td>\n",
       "      <td>...</td>\n",
       "      <td>...</td>\n",
       "      <td>...</td>\n",
       "      <td>...</td>\n",
       "      <td>...</td>\n",
       "      <td>...</td>\n",
       "      <td>...</td>\n",
       "      <td>...</td>\n",
       "      <td>...</td>\n",
       "    </tr>\n",
       "    <tr>\n",
       "      <th>2022-08-08</th>\n",
       "      <td>0.013699</td>\n",
       "      <td>0.003243</td>\n",
       "      <td>0.035463</td>\n",
       "      <td>0.039080</td>\n",
       "      <td>0.017042</td>\n",
       "      <td>0.013319</td>\n",
       "      <td>-0.036358</td>\n",
       "      <td>0.020339</td>\n",
       "      <td>0.034810</td>\n",
       "      <td>0.014516</td>\n",
       "      <td>0.050473</td>\n",
       "      <td>0.000707</td>\n",
       "      <td>0.008529</td>\n",
       "      <td>0.018127</td>\n",
       "    </tr>\n",
       "    <tr>\n",
       "      <th>2022-08-09</th>\n",
       "      <td>-0.004054</td>\n",
       "      <td>0.014547</td>\n",
       "      <td>0.010173</td>\n",
       "      <td>-0.059735</td>\n",
       "      <td>-0.050811</td>\n",
       "      <td>0.018620</td>\n",
       "      <td>-0.018698</td>\n",
       "      <td>-0.019934</td>\n",
       "      <td>-0.058104</td>\n",
       "      <td>-0.001590</td>\n",
       "      <td>0.016380</td>\n",
       "      <td>0.016254</td>\n",
       "      <td>0.020706</td>\n",
       "      <td>0.002297</td>\n",
       "    </tr>\n",
       "    <tr>\n",
       "      <th>2022-08-10</th>\n",
       "      <td>0.028494</td>\n",
       "      <td>0.015932</td>\n",
       "      <td>-0.011413</td>\n",
       "      <td>0.006275</td>\n",
       "      <td>0.080866</td>\n",
       "      <td>0.005376</td>\n",
       "      <td>0.039469</td>\n",
       "      <td>0.079661</td>\n",
       "      <td>0.068182</td>\n",
       "      <td>0.035032</td>\n",
       "      <td>-0.003223</td>\n",
       "      <td>0.002086</td>\n",
       "      <td>0.000714</td>\n",
       "      <td>0.014588</td>\n",
       "    </tr>\n",
       "    <tr>\n",
       "      <th>2022-08-11</th>\n",
       "      <td>-0.001979</td>\n",
       "      <td>0.008364</td>\n",
       "      <td>0.028523</td>\n",
       "      <td>0.073266</td>\n",
       "      <td>-0.040569</td>\n",
       "      <td>-0.003209</td>\n",
       "      <td>0.022586</td>\n",
       "      <td>-0.006279</td>\n",
       "      <td>-0.075988</td>\n",
       "      <td>-0.022308</td>\n",
       "      <td>-0.023174</td>\n",
       "      <td>-0.018043</td>\n",
       "      <td>0.034832</td>\n",
       "      <td>-0.004699</td>\n",
       "    </tr>\n",
       "    <tr>\n",
       "      <th>2022-08-12</th>\n",
       "      <td>0.005288</td>\n",
       "      <td>0.012442</td>\n",
       "      <td>0.009574</td>\n",
       "      <td>0.021786</td>\n",
       "      <td>0.037342</td>\n",
       "      <td>0.012876</td>\n",
       "      <td>-0.026248</td>\n",
       "      <td>0.050553</td>\n",
       "      <td>0.177632</td>\n",
       "      <td>0.015736</td>\n",
       "      <td>0.074260</td>\n",
       "      <td>0.014841</td>\n",
       "      <td>0.012799</td>\n",
       "      <td>0.027762</td>\n",
       "    </tr>\n",
       "  </tbody>\n",
       "</table>\n",
       "<p>249 rows × 14 columns</p>\n",
       "</div>"
      ],
      "text/plain": [
       "            ABEV3.SA  BBDC4.SA  BBSE3.SA  BEEF3.SA  EZTC3.SA  ITSA4.SA  \\\n",
       "Date                                                                     \n",
       "2021-08-16       NaN       NaN       NaN       NaN       NaN       NaN   \n",
       "2021-08-17 -0.004878 -0.003906 -0.013440 -0.024420 -0.022099 -0.013193   \n",
       "2021-08-18  0.009191 -0.006536 -0.007063  0.011264  0.007667  0.002674   \n",
       "2021-08-19  0.043716 -0.002193  0.003557  0.037129  0.008811 -0.008000   \n",
       "2021-08-20  0.020361 -0.005714  0.005570 -0.007160  0.024613  0.001792   \n",
       "...              ...       ...       ...       ...       ...       ...   \n",
       "2022-08-08  0.013699  0.003243  0.035463  0.039080  0.017042  0.013319   \n",
       "2022-08-09 -0.004054  0.014547  0.010173 -0.059735 -0.050811  0.018620   \n",
       "2022-08-10  0.028494  0.015932 -0.011413  0.006275  0.080866  0.005376   \n",
       "2022-08-11 -0.001979  0.008364  0.028523  0.073266 -0.040569 -0.003209   \n",
       "2022-08-12  0.005288  0.012442  0.009574  0.021786  0.037342  0.012876   \n",
       "\n",
       "            JBSS3.SA  JHSF3.SA  MGLU3.SA  MULT3.SA  PETR4.SA  TAEE3.SA  \\\n",
       "Date                                                                     \n",
       "2021-08-16       NaN       NaN       NaN       NaN       NaN       NaN   \n",
       "2021-08-17 -0.021137 -0.049563 -0.005664 -0.022635 -0.000003  0.006798   \n",
       "2021-08-18  0.007323  0.024540 -0.024340 -0.012506 -0.008879 -0.010503   \n",
       "2021-08-19  0.038004  0.016467  0.005839  0.008912 -0.005599  0.003791   \n",
       "2021-08-20  0.009551  0.013255 -0.004749  0.008833 -0.001502  0.019637   \n",
       "...              ...       ...       ...       ...       ...       ...   \n",
       "2022-08-08 -0.036358  0.020339  0.034810  0.014516  0.050473  0.000707   \n",
       "2022-08-09 -0.018698 -0.019934 -0.058104 -0.001590  0.016380  0.016254   \n",
       "2022-08-10  0.039469  0.079661  0.068182  0.035032 -0.003223  0.002086   \n",
       "2022-08-11  0.022586 -0.006279 -0.075988 -0.022308 -0.023174 -0.018043   \n",
       "2022-08-12 -0.026248  0.050553  0.177632  0.015736  0.074260  0.014841   \n",
       "\n",
       "            VALE3.SA     ^BVSP  \n",
       "Date                            \n",
       "2021-08-16       NaN       NaN  \n",
       "2021-08-17 -0.016544 -0.010706  \n",
       "2021-08-18 -0.033551 -0.010695  \n",
       "2021-08-19 -0.057055  0.004475  \n",
       "2021-08-20  0.000410  0.007579  \n",
       "...              ...       ...  \n",
       "2022-08-08  0.008529  0.018127  \n",
       "2022-08-09  0.020706  0.002297  \n",
       "2022-08-10  0.000714  0.014588  \n",
       "2022-08-11  0.034832 -0.004699  \n",
       "2022-08-12  0.012799  0.027762  \n",
       "\n",
       "[249 rows x 14 columns]"
      ]
     },
     "execution_count": 34,
     "metadata": {},
     "output_type": "execute_result"
    }
   ],
   "source": [
    "retornos = dados0002['Adj Close'].dropna().pct_change()\n",
    "retornos"
   ]
  },
  {
   "cell_type": "code",
   "execution_count": 53,
   "metadata": {},
   "outputs": [
    {
     "name": "stdout",
     "output_type": "stream",
     "text": [
      "[*********************100%***********************]  1 of 1 completed\n"
     ]
    }
   ],
   "source": [
    "endDate = dt.date.today()\n",
    "\n",
    "startDate = endDate - rltd(months=12)\n",
    "\n",
    "tickers = ['ABEV3.SA']\n",
    "\n",
    "modo0003 = DataYFinance(tickers)\n",
    "adjClose = modo0003.getAdjclose(startDate, endDate)\n",
    "#retornos0003 = modo0003.dReturns(adjClose)\n",
    "#retornos0003"
   ]
  },
  {
   "cell_type": "code",
   "execution_count": 54,
   "metadata": {},
   "outputs": [
    {
     "data": {
      "text/plain": [
       "Date\n",
       "2021-08-16    15.784004\n",
       "2021-08-17    15.707009\n",
       "2021-08-18    15.851375\n",
       "2021-08-19    16.544333\n",
       "2021-08-20    16.881186\n",
       "                ...    \n",
       "2022-08-08    14.800000\n",
       "2022-08-09    14.740000\n",
       "2022-08-10    15.160000\n",
       "2022-08-11    15.130000\n",
       "2022-08-12    15.210000\n",
       "Name: Adj Close, Length: 249, dtype: float64"
      ]
     },
     "execution_count": 54,
     "metadata": {},
     "output_type": "execute_result"
    }
   ],
   "source": [
    "adjClose"
   ]
  },
  {
   "cell_type": "code",
   "execution_count": 45,
   "metadata": {},
   "outputs": [
    {
     "ename": "TypeError",
     "evalue": "'str' object is not callable",
     "output_type": "error",
     "traceback": [
      "\u001b[1;31m---------------------------------------------------------------------------\u001b[0m",
      "\u001b[1;31mTypeError\u001b[0m                                 Traceback (most recent call last)",
      "\u001b[1;32mc:\\Users\\gabri\\OneDrive\\Área de Trabalho\\MeuGIT\\financialstrategies\\tests.ipynb Célula: 7\u001b[0m in \u001b[0;36m<cell line: 1>\u001b[1;34m()\u001b[0m\n\u001b[1;32m----> <a href='vscode-notebook-cell:/c%3A/Users/gabri/OneDrive/%C3%81rea%20de%20Trabalho/MeuGIT/financialstrategies/tests.ipynb#W6sZmlsZQ%3D%3D?line=0'>1</a>\u001b[0m modo0003\u001b[39m.\u001b[39;49mmReturns(adjClose)\n",
      "File \u001b[1;32mc:\\Users\\gabri\\OneDrive\\Área de Trabalho\\MeuGIT\\financialstrategies\\processDataYF.py:40\u001b[0m, in \u001b[0;36mDataYFinance.mReturns\u001b[1;34m(self, adjclose)\u001b[0m\n\u001b[0;32m     33\u001b[0m \u001b[39mdef\u001b[39;00m \u001b[39mmReturns\u001b[39m(\u001b[39mself\u001b[39m, adjclose):\n\u001b[0;32m     34\u001b[0m     \u001b[39m\"\"\"\u001b[39;00m\n\u001b[0;32m     35\u001b[0m \u001b[39m    Recebe:\u001b[39;00m\n\u001b[0;32m     36\u001b[0m \u001b[39m        adjclose (Pandas.DataFrame / .Series): preços diários ajustados.\u001b[39;00m\n\u001b[0;32m     37\u001b[0m \u001b[39m    Devolve:\u001b[39;00m\n\u001b[0;32m     38\u001b[0m \u001b[39m        Pandas.DataFrame / .Series: dataframe/series com os retornos mensais.        \u001b[39;00m\n\u001b[0;32m     39\u001b[0m \u001b[39m    \"\"\"\u001b[39;00m\n\u001b[1;32m---> 40\u001b[0m     adjclose \u001b[39m=\u001b[39m adjclose\u001b[39m.\u001b[39;49mrename(\u001b[39m'\u001b[39;49m\u001b[39mReturns\u001b[39;49m\u001b[39m'\u001b[39;49m)\n\u001b[0;32m     41\u001b[0m     temp \u001b[39m=\u001b[39m (adjclose\u001b[39m.\u001b[39mpct_change()\u001b[39m.\u001b[39mdropna())\u001b[39m.\u001b[39mresample(\u001b[39m\"\u001b[39m\u001b[39mM\u001b[39m\u001b[39m\"\u001b[39m)\u001b[39m.\u001b[39mapply(\u001b[39mlambda\u001b[39;00m x: ((\u001b[39m1\u001b[39m\u001b[39m+\u001b[39mx)\u001b[39m.\u001b[39mprod()) \u001b[39m-\u001b[39m \u001b[39m1\u001b[39m)\n\u001b[0;32m     42\u001b[0m     temp\u001b[39m.\u001b[39mindex \u001b[39m=\u001b[39m pd\u001b[39m.\u001b[39mto_datetime(temp\u001b[39m.\u001b[39mindex, \u001b[39mformat\u001b[39m\u001b[39m=\u001b[39m\u001b[39m\"\u001b[39m\u001b[39m%\u001b[39m\u001b[39mY\u001b[39m\u001b[39m%\u001b[39m\u001b[39mm\u001b[39m\u001b[39m\"\u001b[39m)\u001b[39m.\u001b[39mto_period(\u001b[39m'\u001b[39m\u001b[39mM\u001b[39m\u001b[39m'\u001b[39m)\n",
      "File \u001b[1;32m~\\AppData\\Local\\Packages\\PythonSoftwareFoundation.Python.3.9_qbz5n2kfra8p0\\LocalCache\\local-packages\\Python39\\site-packages\\pandas\\core\\frame.py:5077\u001b[0m, in \u001b[0;36mDataFrame.rename\u001b[1;34m(self, mapper, index, columns, axis, copy, inplace, level, errors)\u001b[0m\n\u001b[0;32m   4958\u001b[0m \u001b[39mdef\u001b[39;00m \u001b[39mrename\u001b[39m(\n\u001b[0;32m   4959\u001b[0m     \u001b[39mself\u001b[39m,\n\u001b[0;32m   4960\u001b[0m     mapper: Renamer \u001b[39m|\u001b[39m \u001b[39mNone\u001b[39;00m \u001b[39m=\u001b[39m \u001b[39mNone\u001b[39;00m,\n\u001b[1;32m   (...)\u001b[0m\n\u001b[0;32m   4968\u001b[0m     errors: \u001b[39mstr\u001b[39m \u001b[39m=\u001b[39m \u001b[39m\"\u001b[39m\u001b[39mignore\u001b[39m\u001b[39m\"\u001b[39m,\n\u001b[0;32m   4969\u001b[0m ) \u001b[39m-\u001b[39m\u001b[39m>\u001b[39m DataFrame \u001b[39m|\u001b[39m \u001b[39mNone\u001b[39;00m:\n\u001b[0;32m   4970\u001b[0m     \u001b[39m\"\"\"\u001b[39;00m\n\u001b[0;32m   4971\u001b[0m \u001b[39m    Alter axes labels.\u001b[39;00m\n\u001b[0;32m   4972\u001b[0m \n\u001b[1;32m   (...)\u001b[0m\n\u001b[0;32m   5075\u001b[0m \u001b[39m    4  3  6\u001b[39;00m\n\u001b[0;32m   5076\u001b[0m \u001b[39m    \"\"\"\u001b[39;00m\n\u001b[1;32m-> 5077\u001b[0m     \u001b[39mreturn\u001b[39;00m \u001b[39msuper\u001b[39;49m()\u001b[39m.\u001b[39;49m_rename(\n\u001b[0;32m   5078\u001b[0m         mapper\u001b[39m=\u001b[39;49mmapper,\n\u001b[0;32m   5079\u001b[0m         index\u001b[39m=\u001b[39;49mindex,\n\u001b[0;32m   5080\u001b[0m         columns\u001b[39m=\u001b[39;49mcolumns,\n\u001b[0;32m   5081\u001b[0m         axis\u001b[39m=\u001b[39;49maxis,\n\u001b[0;32m   5082\u001b[0m         copy\u001b[39m=\u001b[39;49mcopy,\n\u001b[0;32m   5083\u001b[0m         inplace\u001b[39m=\u001b[39;49minplace,\n\u001b[0;32m   5084\u001b[0m         level\u001b[39m=\u001b[39;49mlevel,\n\u001b[0;32m   5085\u001b[0m         errors\u001b[39m=\u001b[39;49merrors,\n\u001b[0;32m   5086\u001b[0m     )\n",
      "File \u001b[1;32m~\\AppData\\Local\\Packages\\PythonSoftwareFoundation.Python.3.9_qbz5n2kfra8p0\\LocalCache\\local-packages\\Python39\\site-packages\\pandas\\core\\generic.py:1163\u001b[0m, in \u001b[0;36mNDFrame._rename\u001b[1;34m(self, mapper, index, columns, axis, copy, inplace, level, errors)\u001b[0m\n\u001b[0;32m   1156\u001b[0m         missing_labels \u001b[39m=\u001b[39m [\n\u001b[0;32m   1157\u001b[0m             label\n\u001b[0;32m   1158\u001b[0m             \u001b[39mfor\u001b[39;00m index, label \u001b[39min\u001b[39;00m \u001b[39menumerate\u001b[39m(replacements)\n\u001b[0;32m   1159\u001b[0m             \u001b[39mif\u001b[39;00m indexer[index] \u001b[39m==\u001b[39m \u001b[39m-\u001b[39m\u001b[39m1\u001b[39m\n\u001b[0;32m   1160\u001b[0m         ]\n\u001b[0;32m   1161\u001b[0m         \u001b[39mraise\u001b[39;00m \u001b[39mKeyError\u001b[39;00m(\u001b[39mf\u001b[39m\u001b[39m\"\u001b[39m\u001b[39m{\u001b[39;00mmissing_labels\u001b[39m}\u001b[39;00m\u001b[39m not found in axis\u001b[39m\u001b[39m\"\u001b[39m)\n\u001b[1;32m-> 1163\u001b[0m new_index \u001b[39m=\u001b[39m ax\u001b[39m.\u001b[39;49m_transform_index(f, level\u001b[39m=\u001b[39;49mlevel)\n\u001b[0;32m   1164\u001b[0m result\u001b[39m.\u001b[39m_set_axis_nocheck(new_index, axis\u001b[39m=\u001b[39maxis_no, inplace\u001b[39m=\u001b[39m\u001b[39mTrue\u001b[39;00m)\n\u001b[0;32m   1165\u001b[0m result\u001b[39m.\u001b[39m_clear_item_cache()\n",
      "File \u001b[1;32m~\\AppData\\Local\\Packages\\PythonSoftwareFoundation.Python.3.9_qbz5n2kfra8p0\\LocalCache\\local-packages\\Python39\\site-packages\\pandas\\core\\indexes\\base.py:6131\u001b[0m, in \u001b[0;36mIndex._transform_index\u001b[1;34m(self, func, level)\u001b[0m\n\u001b[0;32m   6129\u001b[0m     \u001b[39mreturn\u001b[39;00m \u001b[39mtype\u001b[39m(\u001b[39mself\u001b[39m)\u001b[39m.\u001b[39mfrom_tuples(items, names\u001b[39m=\u001b[39m\u001b[39mself\u001b[39m\u001b[39m.\u001b[39mnames)\n\u001b[0;32m   6130\u001b[0m \u001b[39melse\u001b[39;00m:\n\u001b[1;32m-> 6131\u001b[0m     items \u001b[39m=\u001b[39m [func(x) \u001b[39mfor\u001b[39;00m x \u001b[39min\u001b[39;00m \u001b[39mself\u001b[39m]\n\u001b[0;32m   6132\u001b[0m     \u001b[39mreturn\u001b[39;00m Index(items, name\u001b[39m=\u001b[39m\u001b[39mself\u001b[39m\u001b[39m.\u001b[39mname, tupleize_cols\u001b[39m=\u001b[39m\u001b[39mFalse\u001b[39;00m)\n",
      "File \u001b[1;32m~\\AppData\\Local\\Packages\\PythonSoftwareFoundation.Python.3.9_qbz5n2kfra8p0\\LocalCache\\local-packages\\Python39\\site-packages\\pandas\\core\\indexes\\base.py:6131\u001b[0m, in \u001b[0;36m<listcomp>\u001b[1;34m(.0)\u001b[0m\n\u001b[0;32m   6129\u001b[0m     \u001b[39mreturn\u001b[39;00m \u001b[39mtype\u001b[39m(\u001b[39mself\u001b[39m)\u001b[39m.\u001b[39mfrom_tuples(items, names\u001b[39m=\u001b[39m\u001b[39mself\u001b[39m\u001b[39m.\u001b[39mnames)\n\u001b[0;32m   6130\u001b[0m \u001b[39melse\u001b[39;00m:\n\u001b[1;32m-> 6131\u001b[0m     items \u001b[39m=\u001b[39m [func(x) \u001b[39mfor\u001b[39;00m x \u001b[39min\u001b[39;00m \u001b[39mself\u001b[39m]\n\u001b[0;32m   6132\u001b[0m     \u001b[39mreturn\u001b[39;00m Index(items, name\u001b[39m=\u001b[39m\u001b[39mself\u001b[39m\u001b[39m.\u001b[39mname, tupleize_cols\u001b[39m=\u001b[39m\u001b[39mFalse\u001b[39;00m)\n",
      "\u001b[1;31mTypeError\u001b[0m: 'str' object is not callable"
     ]
    }
   ],
   "source": [
    "modo0003.mReturns(adjClose)"
   ]
  },
  {
   "cell_type": "code",
   "execution_count": null,
   "metadata": {},
   "outputs": [
    {
     "data": {
      "text/plain": [
       "ABEV3.SA    0.016918\n",
       "BBDC4.SA    0.019036\n",
       "BBSE3.SA    0.015912\n",
       "BEEF3.SA    0.025196\n",
       "EZTC3.SA    0.032296\n",
       "ITSA4.SA    0.014873\n",
       "JBSS3.SA    0.018930\n",
       "JHSF3.SA    0.028694\n",
       "MGLU3.SA    0.050051\n",
       "MULT3.SA    0.022908\n",
       "PETR4.SA    0.023272\n",
       "TAEE3.SA    0.011490\n",
       "VALE3.SA    0.023874\n",
       "^BVSP       0.012917\n",
       "dtype: float64"
      ]
     },
     "execution_count": 27,
     "metadata": {},
     "output_type": "execute_result"
    }
   ],
   "source": [
    "modo0003.dVol(adjClose)"
   ]
  },
  {
   "cell_type": "code",
   "execution_count": 29,
   "metadata": {},
   "outputs": [
    {
     "ename": "TypeError",
     "evalue": "'str' object is not callable",
     "output_type": "error",
     "traceback": [
      "\u001b[1;31m---------------------------------------------------------------------------\u001b[0m",
      "\u001b[1;31mTypeError\u001b[0m                                 Traceback (most recent call last)",
      "\u001b[1;32mc:\\Users\\gabri\\OneDrive\\Área de Trabalho\\MeuGIT\\financialstrategies\\tests.ipynb Célula: 9\u001b[0m in \u001b[0;36m<cell line: 1>\u001b[1;34m()\u001b[0m\n\u001b[1;32m----> <a href='vscode-notebook-cell:/c%3A/Users/gabri/OneDrive/%C3%81rea%20de%20Trabalho/MeuGIT/financialstrategies/tests.ipynb#X11sZmlsZQ%3D%3D?line=0'>1</a>\u001b[0m volatilidade_movel \u001b[39m=\u001b[39m qt\u001b[39m.\u001b[39mrolVol(modo0003\u001b[39m.\u001b[39;49mdReturns(adjClose), \u001b[39m15\u001b[39m)\n\u001b[0;32m      <a href='vscode-notebook-cell:/c%3A/Users/gabri/OneDrive/%C3%81rea%20de%20Trabalho/MeuGIT/financialstrategies/tests.ipynb#X11sZmlsZQ%3D%3D?line=1'>2</a>\u001b[0m volatilidade_fixa \u001b[39m=\u001b[39m modo0003\u001b[39m.\u001b[39maVol(adjClose)\n",
      "File \u001b[1;32mc:\\Users\\gabri\\OneDrive\\Área de Trabalho\\MeuGIT\\financialstrategies\\processDataYF.py:52\u001b[0m, in \u001b[0;36mDataYFinance.dReturns\u001b[1;34m(self, adjclose)\u001b[0m\n\u001b[0;32m     45\u001b[0m \u001b[39mdef\u001b[39;00m \u001b[39mdReturns\u001b[39m(\u001b[39mself\u001b[39m, adjclose):\n\u001b[0;32m     46\u001b[0m     \u001b[39m\"\"\"\u001b[39;00m\n\u001b[0;32m     47\u001b[0m \u001b[39m    Recebe:\u001b[39;00m\n\u001b[0;32m     48\u001b[0m \u001b[39m        adjclose (Pandas.DataFrame / .Series): preços diários ajustados.\u001b[39;00m\n\u001b[0;32m     49\u001b[0m \u001b[39m    Devolve:\u001b[39;00m\n\u001b[0;32m     50\u001b[0m \u001b[39m        Pandas.DataFrame / .Series: dataframe/series com os retornos diários.\u001b[39;00m\n\u001b[0;32m     51\u001b[0m \u001b[39m    \"\"\"\u001b[39;00m\n\u001b[1;32m---> 52\u001b[0m     adjclose \u001b[39m=\u001b[39m adjclose\u001b[39m.\u001b[39;49mrename(\u001b[39m'\u001b[39;49m\u001b[39mReturns\u001b[39;49m\u001b[39m'\u001b[39;49m)\n\u001b[0;32m     53\u001b[0m     temp \u001b[39m=\u001b[39m adjclose\u001b[39m.\u001b[39mdropna()\u001b[39m.\u001b[39mpct_change()\n\u001b[0;32m     54\u001b[0m     \u001b[39mreturn\u001b[39;00m temp\u001b[39m.\u001b[39mdropna()\n",
      "File \u001b[1;32m~\\AppData\\Local\\Packages\\PythonSoftwareFoundation.Python.3.9_qbz5n2kfra8p0\\LocalCache\\local-packages\\Python39\\site-packages\\pandas\\core\\frame.py:5077\u001b[0m, in \u001b[0;36mDataFrame.rename\u001b[1;34m(self, mapper, index, columns, axis, copy, inplace, level, errors)\u001b[0m\n\u001b[0;32m   4958\u001b[0m \u001b[39mdef\u001b[39;00m \u001b[39mrename\u001b[39m(\n\u001b[0;32m   4959\u001b[0m     \u001b[39mself\u001b[39m,\n\u001b[0;32m   4960\u001b[0m     mapper: Renamer \u001b[39m|\u001b[39m \u001b[39mNone\u001b[39;00m \u001b[39m=\u001b[39m \u001b[39mNone\u001b[39;00m,\n\u001b[1;32m   (...)\u001b[0m\n\u001b[0;32m   4968\u001b[0m     errors: \u001b[39mstr\u001b[39m \u001b[39m=\u001b[39m \u001b[39m\"\u001b[39m\u001b[39mignore\u001b[39m\u001b[39m\"\u001b[39m,\n\u001b[0;32m   4969\u001b[0m ) \u001b[39m-\u001b[39m\u001b[39m>\u001b[39m DataFrame \u001b[39m|\u001b[39m \u001b[39mNone\u001b[39;00m:\n\u001b[0;32m   4970\u001b[0m     \u001b[39m\"\"\"\u001b[39;00m\n\u001b[0;32m   4971\u001b[0m \u001b[39m    Alter axes labels.\u001b[39;00m\n\u001b[0;32m   4972\u001b[0m \n\u001b[1;32m   (...)\u001b[0m\n\u001b[0;32m   5075\u001b[0m \u001b[39m    4  3  6\u001b[39;00m\n\u001b[0;32m   5076\u001b[0m \u001b[39m    \"\"\"\u001b[39;00m\n\u001b[1;32m-> 5077\u001b[0m     \u001b[39mreturn\u001b[39;00m \u001b[39msuper\u001b[39;49m()\u001b[39m.\u001b[39;49m_rename(\n\u001b[0;32m   5078\u001b[0m         mapper\u001b[39m=\u001b[39;49mmapper,\n\u001b[0;32m   5079\u001b[0m         index\u001b[39m=\u001b[39;49mindex,\n\u001b[0;32m   5080\u001b[0m         columns\u001b[39m=\u001b[39;49mcolumns,\n\u001b[0;32m   5081\u001b[0m         axis\u001b[39m=\u001b[39;49maxis,\n\u001b[0;32m   5082\u001b[0m         copy\u001b[39m=\u001b[39;49mcopy,\n\u001b[0;32m   5083\u001b[0m         inplace\u001b[39m=\u001b[39;49minplace,\n\u001b[0;32m   5084\u001b[0m         level\u001b[39m=\u001b[39;49mlevel,\n\u001b[0;32m   5085\u001b[0m         errors\u001b[39m=\u001b[39;49merrors,\n\u001b[0;32m   5086\u001b[0m     )\n",
      "File \u001b[1;32m~\\AppData\\Local\\Packages\\PythonSoftwareFoundation.Python.3.9_qbz5n2kfra8p0\\LocalCache\\local-packages\\Python39\\site-packages\\pandas\\core\\generic.py:1163\u001b[0m, in \u001b[0;36mNDFrame._rename\u001b[1;34m(self, mapper, index, columns, axis, copy, inplace, level, errors)\u001b[0m\n\u001b[0;32m   1156\u001b[0m         missing_labels \u001b[39m=\u001b[39m [\n\u001b[0;32m   1157\u001b[0m             label\n\u001b[0;32m   1158\u001b[0m             \u001b[39mfor\u001b[39;00m index, label \u001b[39min\u001b[39;00m \u001b[39menumerate\u001b[39m(replacements)\n\u001b[0;32m   1159\u001b[0m             \u001b[39mif\u001b[39;00m indexer[index] \u001b[39m==\u001b[39m \u001b[39m-\u001b[39m\u001b[39m1\u001b[39m\n\u001b[0;32m   1160\u001b[0m         ]\n\u001b[0;32m   1161\u001b[0m         \u001b[39mraise\u001b[39;00m \u001b[39mKeyError\u001b[39;00m(\u001b[39mf\u001b[39m\u001b[39m\"\u001b[39m\u001b[39m{\u001b[39;00mmissing_labels\u001b[39m}\u001b[39;00m\u001b[39m not found in axis\u001b[39m\u001b[39m\"\u001b[39m)\n\u001b[1;32m-> 1163\u001b[0m new_index \u001b[39m=\u001b[39m ax\u001b[39m.\u001b[39;49m_transform_index(f, level\u001b[39m=\u001b[39;49mlevel)\n\u001b[0;32m   1164\u001b[0m result\u001b[39m.\u001b[39m_set_axis_nocheck(new_index, axis\u001b[39m=\u001b[39maxis_no, inplace\u001b[39m=\u001b[39m\u001b[39mTrue\u001b[39;00m)\n\u001b[0;32m   1165\u001b[0m result\u001b[39m.\u001b[39m_clear_item_cache()\n",
      "File \u001b[1;32m~\\AppData\\Local\\Packages\\PythonSoftwareFoundation.Python.3.9_qbz5n2kfra8p0\\LocalCache\\local-packages\\Python39\\site-packages\\pandas\\core\\indexes\\base.py:6131\u001b[0m, in \u001b[0;36mIndex._transform_index\u001b[1;34m(self, func, level)\u001b[0m\n\u001b[0;32m   6129\u001b[0m     \u001b[39mreturn\u001b[39;00m \u001b[39mtype\u001b[39m(\u001b[39mself\u001b[39m)\u001b[39m.\u001b[39mfrom_tuples(items, names\u001b[39m=\u001b[39m\u001b[39mself\u001b[39m\u001b[39m.\u001b[39mnames)\n\u001b[0;32m   6130\u001b[0m \u001b[39melse\u001b[39;00m:\n\u001b[1;32m-> 6131\u001b[0m     items \u001b[39m=\u001b[39m [func(x) \u001b[39mfor\u001b[39;00m x \u001b[39min\u001b[39;00m \u001b[39mself\u001b[39m]\n\u001b[0;32m   6132\u001b[0m     \u001b[39mreturn\u001b[39;00m Index(items, name\u001b[39m=\u001b[39m\u001b[39mself\u001b[39m\u001b[39m.\u001b[39mname, tupleize_cols\u001b[39m=\u001b[39m\u001b[39mFalse\u001b[39;00m)\n",
      "File \u001b[1;32m~\\AppData\\Local\\Packages\\PythonSoftwareFoundation.Python.3.9_qbz5n2kfra8p0\\LocalCache\\local-packages\\Python39\\site-packages\\pandas\\core\\indexes\\base.py:6131\u001b[0m, in \u001b[0;36m<listcomp>\u001b[1;34m(.0)\u001b[0m\n\u001b[0;32m   6129\u001b[0m     \u001b[39mreturn\u001b[39;00m \u001b[39mtype\u001b[39m(\u001b[39mself\u001b[39m)\u001b[39m.\u001b[39mfrom_tuples(items, names\u001b[39m=\u001b[39m\u001b[39mself\u001b[39m\u001b[39m.\u001b[39mnames)\n\u001b[0;32m   6130\u001b[0m \u001b[39melse\u001b[39;00m:\n\u001b[1;32m-> 6131\u001b[0m     items \u001b[39m=\u001b[39m [func(x) \u001b[39mfor\u001b[39;00m x \u001b[39min\u001b[39;00m \u001b[39mself\u001b[39m]\n\u001b[0;32m   6132\u001b[0m     \u001b[39mreturn\u001b[39;00m Index(items, name\u001b[39m=\u001b[39m\u001b[39mself\u001b[39m\u001b[39m.\u001b[39mname, tupleize_cols\u001b[39m=\u001b[39m\u001b[39mFalse\u001b[39;00m)\n",
      "\u001b[1;31mTypeError\u001b[0m: 'str' object is not callable"
     ]
    }
   ],
   "source": [
    "volatilidade_movel = qt.rolVol(modo0003.dReturns(adjClose), 15)\n",
    "volatilidade_fixa = modo0003.aVol(adjClose)"
   ]
  },
  {
   "cell_type": "code",
   "execution_count": 39,
   "metadata": {},
   "outputs": [
    {
     "ename": "NameError",
     "evalue": "name 'volatilidade_movel' is not defined",
     "output_type": "error",
     "traceback": [
      "\u001b[1;31m---------------------------------------------------------------------------\u001b[0m",
      "\u001b[1;31mNameError\u001b[0m                                 Traceback (most recent call last)",
      "\u001b[1;32mc:\\Users\\gabri\\OneDrive\\Área de Trabalho\\MeuGIT\\financialstrategies\\tests.ipynb Célula: 10\u001b[0m in \u001b[0;36m<cell line: 1>\u001b[1;34m()\u001b[0m\n\u001b[1;32m----> <a href='vscode-notebook-cell:/c%3A/Users/gabri/OneDrive/%C3%81rea%20de%20Trabalho/MeuGIT/financialstrategies/tests.ipynb#X12sZmlsZQ%3D%3D?line=0'>1</a>\u001b[0m volatilidade_movel[\u001b[39m'\u001b[39m\u001b[39mABEV3.SA\u001b[39m\u001b[39m'\u001b[39m]\u001b[39m.\u001b[39mplot()\n\u001b[0;32m      <a href='vscode-notebook-cell:/c%3A/Users/gabri/OneDrive/%C3%81rea%20de%20Trabalho/MeuGIT/financialstrategies/tests.ipynb#X12sZmlsZQ%3D%3D?line=1'>2</a>\u001b[0m volatilidade_fixa[\u001b[39m'\u001b[39m\u001b[39mABEV3.SA\u001b[39m\u001b[39m'\u001b[39m]\n",
      "\u001b[1;31mNameError\u001b[0m: name 'volatilidade_movel' is not defined"
     ]
    }
   ],
   "source": [
    "volatilidade_movel['ABEV3.SA'].plot()\n",
    "volatilidade_fixa['ABEV3.SA']"
   ]
  },
  {
   "cell_type": "code",
   "execution_count": null,
   "metadata": {},
   "outputs": [
    {
     "data": {
      "text/plain": [
       "0.26855965145538724"
      ]
     },
     "execution_count": 30,
     "metadata": {},
     "output_type": "execute_result"
    }
   ],
   "source": [
    "volatilidade_fixa['ABEV3.SA']"
   ]
  },
  {
   "cell_type": "code",
   "execution_count": null,
   "metadata": {},
   "outputs": [
    {
     "data": {
      "text/html": [
       "<div>\n",
       "<style scoped>\n",
       "    .dataframe tbody tr th:only-of-type {\n",
       "        vertical-align: middle;\n",
       "    }\n",
       "\n",
       "    .dataframe tbody tr th {\n",
       "        vertical-align: top;\n",
       "    }\n",
       "\n",
       "    .dataframe thead th {\n",
       "        text-align: right;\n",
       "    }\n",
       "</style>\n",
       "<table border=\"1\" class=\"dataframe\">\n",
       "  <thead>\n",
       "    <tr style=\"text-align: right;\">\n",
       "      <th></th>\n",
       "      <th>ABEV3.SA</th>\n",
       "      <th>BBDC4.SA</th>\n",
       "      <th>BBSE3.SA</th>\n",
       "      <th>BEEF3.SA</th>\n",
       "      <th>EZTC3.SA</th>\n",
       "      <th>ITSA4.SA</th>\n",
       "      <th>JBSS3.SA</th>\n",
       "      <th>JHSF3.SA</th>\n",
       "      <th>MGLU3.SA</th>\n",
       "      <th>MULT3.SA</th>\n",
       "      <th>PETR4.SA</th>\n",
       "      <th>TAEE3.SA</th>\n",
       "      <th>VALE3.SA</th>\n",
       "      <th>^BVSP</th>\n",
       "    </tr>\n",
       "    <tr>\n",
       "      <th>Date</th>\n",
       "      <th></th>\n",
       "      <th></th>\n",
       "      <th></th>\n",
       "      <th></th>\n",
       "      <th></th>\n",
       "      <th></th>\n",
       "      <th></th>\n",
       "      <th></th>\n",
       "      <th></th>\n",
       "      <th></th>\n",
       "      <th></th>\n",
       "      <th></th>\n",
       "      <th></th>\n",
       "      <th></th>\n",
       "    </tr>\n",
       "  </thead>\n",
       "  <tbody>\n",
       "    <tr>\n",
       "      <th>2021-08-16</th>\n",
       "      <td>-0.015015</td>\n",
       "      <td>-0.008179</td>\n",
       "      <td>-0.025703</td>\n",
       "      <td>-0.047675</td>\n",
       "      <td>-0.020866</td>\n",
       "      <td>-0.008948</td>\n",
       "      <td>0.011491</td>\n",
       "      <td>-0.039216</td>\n",
       "      <td>-0.041934</td>\n",
       "      <td>-0.017349</td>\n",
       "      <td>-0.024191</td>\n",
       "      <td>0.001513</td>\n",
       "      <td>0.004617</td>\n",
       "      <td>-0.016618</td>\n",
       "    </tr>\n",
       "    <tr>\n",
       "      <th>2021-08-17</th>\n",
       "      <td>-0.004878</td>\n",
       "      <td>-0.003907</td>\n",
       "      <td>-0.013440</td>\n",
       "      <td>-0.024420</td>\n",
       "      <td>-0.022099</td>\n",
       "      <td>-0.013193</td>\n",
       "      <td>-0.021137</td>\n",
       "      <td>-0.049563</td>\n",
       "      <td>-0.005664</td>\n",
       "      <td>-0.022635</td>\n",
       "      <td>-0.000003</td>\n",
       "      <td>0.006798</td>\n",
       "      <td>-0.016544</td>\n",
       "      <td>-0.010706</td>\n",
       "    </tr>\n",
       "    <tr>\n",
       "      <th>2021-08-18</th>\n",
       "      <td>0.009191</td>\n",
       "      <td>-0.006536</td>\n",
       "      <td>-0.007063</td>\n",
       "      <td>0.011264</td>\n",
       "      <td>0.007667</td>\n",
       "      <td>0.002674</td>\n",
       "      <td>0.007324</td>\n",
       "      <td>0.024540</td>\n",
       "      <td>-0.024340</td>\n",
       "      <td>-0.012506</td>\n",
       "      <td>-0.008879</td>\n",
       "      <td>-0.010503</td>\n",
       "      <td>-0.033551</td>\n",
       "      <td>-0.010695</td>\n",
       "    </tr>\n",
       "    <tr>\n",
       "      <th>2021-08-19</th>\n",
       "      <td>0.043716</td>\n",
       "      <td>-0.002193</td>\n",
       "      <td>0.003557</td>\n",
       "      <td>0.037129</td>\n",
       "      <td>0.008811</td>\n",
       "      <td>-0.008000</td>\n",
       "      <td>0.038004</td>\n",
       "      <td>0.016467</td>\n",
       "      <td>0.005839</td>\n",
       "      <td>0.008912</td>\n",
       "      <td>-0.005599</td>\n",
       "      <td>0.003791</td>\n",
       "      <td>-0.057054</td>\n",
       "      <td>0.004475</td>\n",
       "    </tr>\n",
       "    <tr>\n",
       "      <th>2021-08-20</th>\n",
       "      <td>0.020361</td>\n",
       "      <td>-0.005714</td>\n",
       "      <td>0.005570</td>\n",
       "      <td>-0.007160</td>\n",
       "      <td>0.024613</td>\n",
       "      <td>0.001792</td>\n",
       "      <td>0.009551</td>\n",
       "      <td>0.013255</td>\n",
       "      <td>-0.004749</td>\n",
       "      <td>0.008833</td>\n",
       "      <td>-0.001501</td>\n",
       "      <td>0.019637</td>\n",
       "      <td>0.000410</td>\n",
       "      <td>0.007579</td>\n",
       "    </tr>\n",
       "    <tr>\n",
       "      <th>...</th>\n",
       "      <td>...</td>\n",
       "      <td>...</td>\n",
       "      <td>...</td>\n",
       "      <td>...</td>\n",
       "      <td>...</td>\n",
       "      <td>...</td>\n",
       "      <td>...</td>\n",
       "      <td>...</td>\n",
       "      <td>...</td>\n",
       "      <td>...</td>\n",
       "      <td>...</td>\n",
       "      <td>...</td>\n",
       "      <td>...</td>\n",
       "      <td>...</td>\n",
       "    </tr>\n",
       "    <tr>\n",
       "      <th>2022-08-08</th>\n",
       "      <td>0.013699</td>\n",
       "      <td>0.003243</td>\n",
       "      <td>0.035463</td>\n",
       "      <td>0.039080</td>\n",
       "      <td>0.017042</td>\n",
       "      <td>0.013319</td>\n",
       "      <td>-0.036358</td>\n",
       "      <td>0.020339</td>\n",
       "      <td>0.034810</td>\n",
       "      <td>0.014516</td>\n",
       "      <td>0.050473</td>\n",
       "      <td>0.000707</td>\n",
       "      <td>0.008529</td>\n",
       "      <td>0.018127</td>\n",
       "    </tr>\n",
       "    <tr>\n",
       "      <th>2022-08-09</th>\n",
       "      <td>-0.004054</td>\n",
       "      <td>0.014547</td>\n",
       "      <td>0.010173</td>\n",
       "      <td>-0.059735</td>\n",
       "      <td>-0.050811</td>\n",
       "      <td>0.018620</td>\n",
       "      <td>-0.018698</td>\n",
       "      <td>-0.019934</td>\n",
       "      <td>-0.058104</td>\n",
       "      <td>-0.001590</td>\n",
       "      <td>0.016380</td>\n",
       "      <td>0.016254</td>\n",
       "      <td>0.020706</td>\n",
       "      <td>0.002297</td>\n",
       "    </tr>\n",
       "    <tr>\n",
       "      <th>2022-08-10</th>\n",
       "      <td>0.028494</td>\n",
       "      <td>0.015932</td>\n",
       "      <td>-0.011413</td>\n",
       "      <td>0.006275</td>\n",
       "      <td>0.080866</td>\n",
       "      <td>0.005376</td>\n",
       "      <td>0.039469</td>\n",
       "      <td>0.079661</td>\n",
       "      <td>0.068182</td>\n",
       "      <td>0.035032</td>\n",
       "      <td>-0.003223</td>\n",
       "      <td>0.002086</td>\n",
       "      <td>0.000714</td>\n",
       "      <td>0.014588</td>\n",
       "    </tr>\n",
       "    <tr>\n",
       "      <th>2022-08-11</th>\n",
       "      <td>-0.001979</td>\n",
       "      <td>0.008364</td>\n",
       "      <td>0.028523</td>\n",
       "      <td>0.073266</td>\n",
       "      <td>-0.040569</td>\n",
       "      <td>-0.003209</td>\n",
       "      <td>0.022586</td>\n",
       "      <td>-0.006279</td>\n",
       "      <td>-0.075988</td>\n",
       "      <td>-0.022308</td>\n",
       "      <td>-0.023174</td>\n",
       "      <td>-0.018043</td>\n",
       "      <td>0.034832</td>\n",
       "      <td>-0.004699</td>\n",
       "    </tr>\n",
       "    <tr>\n",
       "      <th>2022-08-12</th>\n",
       "      <td>0.005288</td>\n",
       "      <td>0.012442</td>\n",
       "      <td>0.009574</td>\n",
       "      <td>0.021786</td>\n",
       "      <td>0.037342</td>\n",
       "      <td>0.012876</td>\n",
       "      <td>-0.026248</td>\n",
       "      <td>0.050553</td>\n",
       "      <td>0.177632</td>\n",
       "      <td>0.015736</td>\n",
       "      <td>0.074260</td>\n",
       "      <td>0.014841</td>\n",
       "      <td>0.012799</td>\n",
       "      <td>0.027762</td>\n",
       "    </tr>\n",
       "  </tbody>\n",
       "</table>\n",
       "<p>249 rows × 14 columns</p>\n",
       "</div>"
      ],
      "text/plain": [
       "            ABEV3.SA  BBDC4.SA  BBSE3.SA  BEEF3.SA  EZTC3.SA  ITSA4.SA  \\\n",
       "Date                                                                     \n",
       "2021-08-16 -0.015015 -0.008179 -0.025703 -0.047675 -0.020866 -0.008948   \n",
       "2021-08-17 -0.004878 -0.003907 -0.013440 -0.024420 -0.022099 -0.013193   \n",
       "2021-08-18  0.009191 -0.006536 -0.007063  0.011264  0.007667  0.002674   \n",
       "2021-08-19  0.043716 -0.002193  0.003557  0.037129  0.008811 -0.008000   \n",
       "2021-08-20  0.020361 -0.005714  0.005570 -0.007160  0.024613  0.001792   \n",
       "...              ...       ...       ...       ...       ...       ...   \n",
       "2022-08-08  0.013699  0.003243  0.035463  0.039080  0.017042  0.013319   \n",
       "2022-08-09 -0.004054  0.014547  0.010173 -0.059735 -0.050811  0.018620   \n",
       "2022-08-10  0.028494  0.015932 -0.011413  0.006275  0.080866  0.005376   \n",
       "2022-08-11 -0.001979  0.008364  0.028523  0.073266 -0.040569 -0.003209   \n",
       "2022-08-12  0.005288  0.012442  0.009574  0.021786  0.037342  0.012876   \n",
       "\n",
       "            JBSS3.SA  JHSF3.SA  MGLU3.SA  MULT3.SA  PETR4.SA  TAEE3.SA  \\\n",
       "Date                                                                     \n",
       "2021-08-16  0.011491 -0.039216 -0.041934 -0.017349 -0.024191  0.001513   \n",
       "2021-08-17 -0.021137 -0.049563 -0.005664 -0.022635 -0.000003  0.006798   \n",
       "2021-08-18  0.007324  0.024540 -0.024340 -0.012506 -0.008879 -0.010503   \n",
       "2021-08-19  0.038004  0.016467  0.005839  0.008912 -0.005599  0.003791   \n",
       "2021-08-20  0.009551  0.013255 -0.004749  0.008833 -0.001501  0.019637   \n",
       "...              ...       ...       ...       ...       ...       ...   \n",
       "2022-08-08 -0.036358  0.020339  0.034810  0.014516  0.050473  0.000707   \n",
       "2022-08-09 -0.018698 -0.019934 -0.058104 -0.001590  0.016380  0.016254   \n",
       "2022-08-10  0.039469  0.079661  0.068182  0.035032 -0.003223  0.002086   \n",
       "2022-08-11  0.022586 -0.006279 -0.075988 -0.022308 -0.023174 -0.018043   \n",
       "2022-08-12 -0.026248  0.050553  0.177632  0.015736  0.074260  0.014841   \n",
       "\n",
       "            VALE3.SA     ^BVSP  \n",
       "Date                            \n",
       "2021-08-16  0.004617 -0.016618  \n",
       "2021-08-17 -0.016544 -0.010706  \n",
       "2021-08-18 -0.033551 -0.010695  \n",
       "2021-08-19 -0.057054  0.004475  \n",
       "2021-08-20  0.000410  0.007579  \n",
       "...              ...       ...  \n",
       "2022-08-08  0.008529  0.018127  \n",
       "2022-08-09  0.020706  0.002297  \n",
       "2022-08-10  0.000714  0.014588  \n",
       "2022-08-11  0.034832 -0.004699  \n",
       "2022-08-12  0.012799  0.027762  \n",
       "\n",
       "[249 rows x 14 columns]"
      ]
     },
     "execution_count": 31,
     "metadata": {},
     "output_type": "execute_result"
    }
   ],
   "source": [
    "modo0003.dReturns(adjClose)"
   ]
  },
  {
   "cell_type": "code",
   "execution_count": null,
   "metadata": {},
   "outputs": [
    {
     "data": {
      "text/plain": [
       "-0.05083518885229332"
      ]
     },
     "execution_count": 32,
     "metadata": {},
     "output_type": "execute_result"
    }
   ],
   "source": [
    "(retornos['ABEV3.SA'].dropna() +1).prod()-1    #PARA O RETORNO ACUMULADO NO PERÍODO"
   ]
  },
  {
   "cell_type": "code",
   "execution_count": null,
   "metadata": {},
   "outputs": [
    {
     "data": {
      "text/plain": [
       "ABEV3.SA   -0.050835\n",
       "BBDC4.SA   -0.042194\n",
       "BBSE3.SA    0.541895\n",
       "BEEF3.SA    0.737854\n",
       "EZTC3.SA   -0.246780\n",
       "ITSA4.SA   -0.088600\n",
       "JBSS3.SA    0.087255\n",
       "JHSF3.SA   -0.011110\n",
       "MGLU3.SA   -0.823384\n",
       "MULT3.SA    0.192342\n",
       "PETR4.SA    0.925315\n",
       "TAEE3.SA    0.180017\n",
       "VALE3.SA   -0.222899\n",
       "^BVSP      -0.069558\n",
       "dtype: float64"
      ]
     },
     "execution_count": 33,
     "metadata": {},
     "output_type": "execute_result"
    }
   ],
   "source": [
    "(modo0003.dReturns(adjClose) + 1).prod()-1"
   ]
  },
  {
   "cell_type": "code",
   "execution_count": null,
   "metadata": {},
   "outputs": [
    {
     "data": {
      "text/plain": [
       "Date\n",
       "2021-08-16   -0.015015\n",
       "2021-08-17   -0.004878\n",
       "2021-08-18    0.009191\n",
       "2021-08-19    0.043716\n",
       "2021-08-20    0.020361\n",
       "                ...   \n",
       "2022-08-08    0.013699\n",
       "2022-08-09   -0.004054\n",
       "2022-08-10    0.028494\n",
       "2022-08-11   -0.001979\n",
       "2022-08-12    0.005288\n",
       "Name: ABEV3.SA, Length: 249, dtype: float64"
      ]
     },
     "execution_count": 34,
     "metadata": {},
     "output_type": "execute_result"
    }
   ],
   "source": [
    "modo0003.dReturns(adjClose)['ABEV3.SA']"
   ]
  },
  {
   "cell_type": "code",
   "execution_count": null,
   "metadata": {},
   "outputs": [
    {
     "data": {
      "text/plain": [
       "-0.0695578989058856"
      ]
     },
     "execution_count": 35,
     "metadata": {},
     "output_type": "execute_result"
    }
   ],
   "source": [
    "(modo0003.dReturns(adjClose)['^BVSP'] + 1).prod()-1"
   ]
  },
  {
   "cell_type": "code",
   "execution_count": null,
   "metadata": {},
   "outputs": [
    {
     "name": "stdout",
     "output_type": "stream",
     "text": [
      "[*********************100%***********************]  1 of 1 completed\n"
     ]
    }
   ],
   "source": [
    "abev3 = yf.download('ABEV3.SA', startDate, endDate)"
   ]
  },
  {
   "cell_type": "code",
   "execution_count": null,
   "metadata": {},
   "outputs": [
    {
     "data": {
      "text/plain": [
       "Open         1.163024e+00\n",
       "High         1.169689e+00\n",
       "Low          1.153018e+00\n",
       "Close        1.154047e+00\n",
       "Adj Close    9.307121e-01\n",
       "Volume       1.082755e+07\n",
       "dtype: float64"
      ]
     },
     "execution_count": 37,
     "metadata": {},
     "output_type": "execute_result"
    }
   ],
   "source": [
    "abev3.std() #amostra"
   ]
  },
  {
   "cell_type": "code",
   "execution_count": null,
   "metadata": {},
   "outputs": [
    {
     "data": {
      "text/plain": [
       "Open         1.160696e+00\n",
       "High         1.167347e+00\n",
       "Low          1.150710e+00\n",
       "Close        1.151737e+00\n",
       "Adj Close    9.288488e-01\n",
       "Volume       1.080587e+07\n",
       "dtype: float64"
      ]
     },
     "execution_count": 38,
     "metadata": {},
     "output_type": "execute_result"
    }
   ],
   "source": [
    "np.std(abev3) #população"
   ]
  },
  {
   "cell_type": "code",
   "execution_count": null,
   "metadata": {},
   "outputs": [],
   "source": [
    "def ewmaVol(dReturns, window, lamb = 0.94): #Exponentially Weighted Moving Average Volatility\n",
    "    #somatorio return^2 * (1 - lamb) * (lamb)^(window - n)\n",
    "    '''\n",
    "    (dReturns ** 2)\n",
    "    \n",
    "    temp = temp.sum()\n",
    "    \n",
    "    '''\n",
    "\n",
    "    pass"
   ]
  },
  {
   "cell_type": "code",
   "execution_count": null,
   "metadata": {},
   "outputs": [],
   "source": [
    "trabalhandoRetornos =   abev3['Adj Close']"
   ]
  },
  {
   "cell_type": "code",
   "execution_count": null,
   "metadata": {},
   "outputs": [
    {
     "data": {
      "text/plain": [
       "'Adj Close'"
      ]
     },
     "execution_count": 109,
     "metadata": {},
     "output_type": "execute_result"
    }
   ],
   "source": [
    "trabalhandoRetornos.name"
   ]
  },
  {
   "cell_type": "code",
   "execution_count": null,
   "metadata": {},
   "outputs": [
    {
     "data": {
      "text/plain": [
       "'Adj Close'"
      ]
     },
     "execution_count": 90,
     "metadata": {},
     "output_type": "execute_result"
    }
   ],
   "source": [
    "trabalhandoRetornos.name"
   ]
  },
  {
   "cell_type": "code",
   "execution_count": null,
   "metadata": {},
   "outputs": [
    {
     "data": {
      "text/plain": [
       "Date\n",
       "2021-08-16    0.000225\n",
       "2021-08-17    0.000024\n",
       "2021-08-18    0.000084\n",
       "2021-08-19    0.001911\n",
       "2021-08-20    0.000415\n",
       "                ...   \n",
       "2022-08-08    0.000188\n",
       "2022-08-09    0.000016\n",
       "2022-08-10    0.000812\n",
       "2022-08-11    0.000004\n",
       "2022-08-12    0.000028\n",
       "Name: Returns, Length: 249, dtype: float64"
      ]
     },
     "execution_count": 112,
     "metadata": {},
     "output_type": "execute_result"
    }
   ],
   "source": [
    "trataDados = DataYFinance(trabalhandoRetornos).dReturns(trabalhandoRetornos)\n",
    "retornoquadrado = trataDados ** 2\n",
    "retornoquadrado"
   ]
  },
  {
   "cell_type": "code",
   "execution_count": null,
   "metadata": {},
   "outputs": [
    {
     "data": {
      "text/html": [
       "<div>\n",
       "<style scoped>\n",
       "    .dataframe tbody tr th:only-of-type {\n",
       "        vertical-align: middle;\n",
       "    }\n",
       "\n",
       "    .dataframe tbody tr th {\n",
       "        vertical-align: top;\n",
       "    }\n",
       "\n",
       "    .dataframe thead th {\n",
       "        text-align: right;\n",
       "    }\n",
       "</style>\n",
       "<table border=\"1\" class=\"dataframe\">\n",
       "  <thead>\n",
       "    <tr style=\"text-align: right;\">\n",
       "      <th></th>\n",
       "      <th>Returns</th>\n",
       "      <th>Janela</th>\n",
       "      <th>Expo</th>\n",
       "      <th>EWMA Vol</th>\n",
       "    </tr>\n",
       "    <tr>\n",
       "      <th>Date</th>\n",
       "      <th></th>\n",
       "      <th></th>\n",
       "      <th></th>\n",
       "      <th></th>\n",
       "    </tr>\n",
       "  </thead>\n",
       "  <tbody>\n",
       "    <tr>\n",
       "      <th>2021-08-16</th>\n",
       "      <td>-0.015015</td>\n",
       "      <td>NaN</td>\n",
       "      <td>248</td>\n",
       "      <td>2.930296e-12</td>\n",
       "    </tr>\n",
       "    <tr>\n",
       "      <th>2021-08-17</th>\n",
       "      <td>-0.004878</td>\n",
       "      <td>NaN</td>\n",
       "      <td>247</td>\n",
       "      <td>3.290187e-13</td>\n",
       "    </tr>\n",
       "    <tr>\n",
       "      <th>2021-08-18</th>\n",
       "      <td>0.009191</td>\n",
       "      <td>NaN</td>\n",
       "      <td>246</td>\n",
       "      <td>1.242630e-12</td>\n",
       "    </tr>\n",
       "    <tr>\n",
       "      <th>2021-08-19</th>\n",
       "      <td>0.043716</td>\n",
       "      <td>NaN</td>\n",
       "      <td>245</td>\n",
       "      <td>2.990578e-11</td>\n",
       "    </tr>\n",
       "    <tr>\n",
       "      <th>2021-08-20</th>\n",
       "      <td>0.020361</td>\n",
       "      <td>NaN</td>\n",
       "      <td>244</td>\n",
       "      <td>6.901285e-12</td>\n",
       "    </tr>\n",
       "    <tr>\n",
       "      <th>...</th>\n",
       "      <td>...</td>\n",
       "      <td>...</td>\n",
       "      <td>...</td>\n",
       "      <td>...</td>\n",
       "    </tr>\n",
       "    <tr>\n",
       "      <th>2022-08-08</th>\n",
       "      <td>0.013699</td>\n",
       "      <td>NaN</td>\n",
       "      <td>4</td>\n",
       "      <td>8.790551e-06</td>\n",
       "    </tr>\n",
       "    <tr>\n",
       "      <th>2022-08-09</th>\n",
       "      <td>-0.004054</td>\n",
       "      <td>NaN</td>\n",
       "      <td>3</td>\n",
       "      <td>8.190680e-07</td>\n",
       "    </tr>\n",
       "    <tr>\n",
       "      <th>2022-08-10</th>\n",
       "      <td>0.028494</td>\n",
       "      <td>NaN</td>\n",
       "      <td>2</td>\n",
       "      <td>4.304381e-05</td>\n",
       "    </tr>\n",
       "    <tr>\n",
       "      <th>2022-08-11</th>\n",
       "      <td>-0.001979</td>\n",
       "      <td>NaN</td>\n",
       "      <td>1</td>\n",
       "      <td>2.208592e-07</td>\n",
       "    </tr>\n",
       "    <tr>\n",
       "      <th>2022-08-12</th>\n",
       "      <td>0.005288</td>\n",
       "      <td>NaN</td>\n",
       "      <td>0</td>\n",
       "      <td>1.677461e-06</td>\n",
       "    </tr>\n",
       "  </tbody>\n",
       "</table>\n",
       "<p>249 rows × 4 columns</p>\n",
       "</div>"
      ],
      "text/plain": [
       "             Returns Janela  Expo      EWMA Vol\n",
       "Date                                           \n",
       "2021-08-16 -0.015015    NaN   248  2.930296e-12\n",
       "2021-08-17 -0.004878    NaN   247  3.290187e-13\n",
       "2021-08-18  0.009191    NaN   246  1.242630e-12\n",
       "2021-08-19  0.043716    NaN   245  2.990578e-11\n",
       "2021-08-20  0.020361    NaN   244  6.901285e-12\n",
       "...              ...    ...   ...           ...\n",
       "2022-08-08  0.013699    NaN     4  8.790551e-06\n",
       "2022-08-09 -0.004054    NaN     3  8.190680e-07\n",
       "2022-08-10  0.028494    NaN     2  4.304381e-05\n",
       "2022-08-11 -0.001979    NaN     1  2.208592e-07\n",
       "2022-08-12  0.005288    NaN     0  1.677461e-06\n",
       "\n",
       "[249 rows x 4 columns]"
      ]
     },
     "execution_count": 152,
     "metadata": {},
     "output_type": "execute_result"
    }
   ],
   "source": [
    "lam = 0.94\n",
    "janela = 24\n",
    "mudou = pd.DataFrame(trataDados)\n",
    "mudou['Janela'] = 0\n",
    "mudou['Janela'] = mudou.apply(lambda x: 'NaN' if (1==1) else 1)\n",
    "mudou['Expo'] = np.arange(len(trataDados)-1,-1,-1)\n",
    "mudou['EWMA Vol'] = mudou.apply(lambda x: (x['Returns']**2)* (1 - lam) * (lam) **(x['Expo']) , axis=1)\n",
    "mudou\n",
    "\n",
    "\n",
    "\n",
    "\n",
    "#lambda <args> : <return Value> if <condition > ( <return value > if <condition> else <return value>)\n",
    "\n"
   ]
  },
  {
   "cell_type": "code",
   "execution_count": null,
   "metadata": {},
   "outputs": [
    {
     "data": {
      "text/html": [
       "<div>\n",
       "<style scoped>\n",
       "    .dataframe tbody tr th:only-of-type {\n",
       "        vertical-align: middle;\n",
       "    }\n",
       "\n",
       "    .dataframe tbody tr th {\n",
       "        vertical-align: top;\n",
       "    }\n",
       "\n",
       "    .dataframe thead th {\n",
       "        text-align: right;\n",
       "    }\n",
       "</style>\n",
       "<table border=\"1\" class=\"dataframe\">\n",
       "  <thead>\n",
       "    <tr style=\"text-align: right;\">\n",
       "      <th></th>\n",
       "      <th>Returns</th>\n",
       "      <th>Janela</th>\n",
       "      <th>Expo</th>\n",
       "      <th>EWMA Vol</th>\n",
       "    </tr>\n",
       "    <tr>\n",
       "      <th>Date</th>\n",
       "      <th></th>\n",
       "      <th></th>\n",
       "      <th></th>\n",
       "      <th></th>\n",
       "    </tr>\n",
       "  </thead>\n",
       "  <tbody>\n",
       "    <tr>\n",
       "      <th>2022-07-12</th>\n",
       "      <td>-0.021986</td>\n",
       "      <td>NaN</td>\n",
       "      <td>23</td>\n",
       "      <td>6.988407e-06</td>\n",
       "    </tr>\n",
       "    <tr>\n",
       "      <th>2022-07-13</th>\n",
       "      <td>0.056563</td>\n",
       "      <td>NaN</td>\n",
       "      <td>22</td>\n",
       "      <td>4.920672e-05</td>\n",
       "    </tr>\n",
       "    <tr>\n",
       "      <th>2022-07-14</th>\n",
       "      <td>0.018531</td>\n",
       "      <td>NaN</td>\n",
       "      <td>21</td>\n",
       "      <td>5.618833e-06</td>\n",
       "    </tr>\n",
       "    <tr>\n",
       "      <th>2022-07-15</th>\n",
       "      <td>-0.016846</td>\n",
       "      <td>NaN</td>\n",
       "      <td>20</td>\n",
       "      <td>4.939927e-06</td>\n",
       "    </tr>\n",
       "    <tr>\n",
       "      <th>2022-07-18</th>\n",
       "      <td>-0.006854</td>\n",
       "      <td>NaN</td>\n",
       "      <td>19</td>\n",
       "      <td>8.699077e-07</td>\n",
       "    </tr>\n",
       "    <tr>\n",
       "      <th>2022-07-19</th>\n",
       "      <td>-0.000690</td>\n",
       "      <td>NaN</td>\n",
       "      <td>18</td>\n",
       "      <td>9.382871e-09</td>\n",
       "    </tr>\n",
       "    <tr>\n",
       "      <th>2022-07-20</th>\n",
       "      <td>-0.012431</td>\n",
       "      <td>NaN</td>\n",
       "      <td>17</td>\n",
       "      <td>3.238393e-06</td>\n",
       "    </tr>\n",
       "    <tr>\n",
       "      <th>2022-07-21</th>\n",
       "      <td>0.018182</td>\n",
       "      <td>NaN</td>\n",
       "      <td>16</td>\n",
       "      <td>7.370081e-06</td>\n",
       "    </tr>\n",
       "    <tr>\n",
       "      <th>2022-07-22</th>\n",
       "      <td>-0.003434</td>\n",
       "      <td>NaN</td>\n",
       "      <td>15</td>\n",
       "      <td>2.796982e-07</td>\n",
       "    </tr>\n",
       "    <tr>\n",
       "      <th>2022-07-25</th>\n",
       "      <td>0.011716</td>\n",
       "      <td>NaN</td>\n",
       "      <td>14</td>\n",
       "      <td>3.463415e-06</td>\n",
       "    </tr>\n",
       "    <tr>\n",
       "      <th>2022-07-26</th>\n",
       "      <td>0.009537</td>\n",
       "      <td>NaN</td>\n",
       "      <td>13</td>\n",
       "      <td>2.441257e-06</td>\n",
       "    </tr>\n",
       "    <tr>\n",
       "      <th>2022-07-27</th>\n",
       "      <td>0.010796</td>\n",
       "      <td>NaN</td>\n",
       "      <td>12</td>\n",
       "      <td>3.328344e-06</td>\n",
       "    </tr>\n",
       "    <tr>\n",
       "      <th>2022-07-28</th>\n",
       "      <td>0.008011</td>\n",
       "      <td>NaN</td>\n",
       "      <td>11</td>\n",
       "      <td>1.949407e-06</td>\n",
       "    </tr>\n",
       "    <tr>\n",
       "      <th>2022-07-29</th>\n",
       "      <td>-0.011258</td>\n",
       "      <td>NaN</td>\n",
       "      <td>10</td>\n",
       "      <td>4.096133e-06</td>\n",
       "    </tr>\n",
       "    <tr>\n",
       "      <th>2022-08-01</th>\n",
       "      <td>-0.020094</td>\n",
       "      <td>NaN</td>\n",
       "      <td>9</td>\n",
       "      <td>1.388115e-05</td>\n",
       "    </tr>\n",
       "    <tr>\n",
       "      <th>2022-08-02</th>\n",
       "      <td>0.005468</td>\n",
       "      <td>NaN</td>\n",
       "      <td>8</td>\n",
       "      <td>1.093615e-06</td>\n",
       "    </tr>\n",
       "    <tr>\n",
       "      <th>2022-08-03</th>\n",
       "      <td>-0.005438</td>\n",
       "      <td>NaN</td>\n",
       "      <td>7</td>\n",
       "      <td>1.150800e-06</td>\n",
       "    </tr>\n",
       "    <tr>\n",
       "      <th>2022-08-04</th>\n",
       "      <td>0.003418</td>\n",
       "      <td>NaN</td>\n",
       "      <td>6</td>\n",
       "      <td>4.834739e-07</td>\n",
       "    </tr>\n",
       "    <tr>\n",
       "      <th>2022-08-05</th>\n",
       "      <td>-0.005450</td>\n",
       "      <td>NaN</td>\n",
       "      <td>5</td>\n",
       "      <td>1.307728e-06</td>\n",
       "    </tr>\n",
       "    <tr>\n",
       "      <th>2022-08-08</th>\n",
       "      <td>0.013699</td>\n",
       "      <td>NaN</td>\n",
       "      <td>4</td>\n",
       "      <td>8.790551e-06</td>\n",
       "    </tr>\n",
       "    <tr>\n",
       "      <th>2022-08-09</th>\n",
       "      <td>-0.004054</td>\n",
       "      <td>NaN</td>\n",
       "      <td>3</td>\n",
       "      <td>8.190680e-07</td>\n",
       "    </tr>\n",
       "    <tr>\n",
       "      <th>2022-08-10</th>\n",
       "      <td>0.028494</td>\n",
       "      <td>NaN</td>\n",
       "      <td>2</td>\n",
       "      <td>4.304381e-05</td>\n",
       "    </tr>\n",
       "    <tr>\n",
       "      <th>2022-08-11</th>\n",
       "      <td>-0.001979</td>\n",
       "      <td>NaN</td>\n",
       "      <td>1</td>\n",
       "      <td>2.208592e-07</td>\n",
       "    </tr>\n",
       "    <tr>\n",
       "      <th>2022-08-12</th>\n",
       "      <td>0.005288</td>\n",
       "      <td>NaN</td>\n",
       "      <td>0</td>\n",
       "      <td>1.677461e-06</td>\n",
       "    </tr>\n",
       "  </tbody>\n",
       "</table>\n",
       "</div>"
      ],
      "text/plain": [
       "             Returns Janela  Expo      EWMA Vol\n",
       "Date                                           \n",
       "2022-07-12 -0.021986    NaN    23  6.988407e-06\n",
       "2022-07-13  0.056563    NaN    22  4.920672e-05\n",
       "2022-07-14  0.018531    NaN    21  5.618833e-06\n",
       "2022-07-15 -0.016846    NaN    20  4.939927e-06\n",
       "2022-07-18 -0.006854    NaN    19  8.699077e-07\n",
       "2022-07-19 -0.000690    NaN    18  9.382871e-09\n",
       "2022-07-20 -0.012431    NaN    17  3.238393e-06\n",
       "2022-07-21  0.018182    NaN    16  7.370081e-06\n",
       "2022-07-22 -0.003434    NaN    15  2.796982e-07\n",
       "2022-07-25  0.011716    NaN    14  3.463415e-06\n",
       "2022-07-26  0.009537    NaN    13  2.441257e-06\n",
       "2022-07-27  0.010796    NaN    12  3.328344e-06\n",
       "2022-07-28  0.008011    NaN    11  1.949407e-06\n",
       "2022-07-29 -0.011258    NaN    10  4.096133e-06\n",
       "2022-08-01 -0.020094    NaN     9  1.388115e-05\n",
       "2022-08-02  0.005468    NaN     8  1.093615e-06\n",
       "2022-08-03 -0.005438    NaN     7  1.150800e-06\n",
       "2022-08-04  0.003418    NaN     6  4.834739e-07\n",
       "2022-08-05 -0.005450    NaN     5  1.307728e-06\n",
       "2022-08-08  0.013699    NaN     4  8.790551e-06\n",
       "2022-08-09 -0.004054    NaN     3  8.190680e-07\n",
       "2022-08-10  0.028494    NaN     2  4.304381e-05\n",
       "2022-08-11 -0.001979    NaN     1  2.208592e-07\n",
       "2022-08-12  0.005288    NaN     0  1.677461e-06"
      ]
     },
     "execution_count": 180,
     "metadata": {},
     "output_type": "execute_result"
    }
   ],
   "source": [
    "recorte = mudou[len(mudou)- janela:]\n",
    "recorte"
   ]
  },
  {
   "cell_type": "code",
   "execution_count": null,
   "metadata": {},
   "outputs": [
    {
     "data": {
      "text/plain": [
       "0.014518260153738211"
      ]
     },
     "execution_count": 217,
     "metadata": {},
     "output_type": "execute_result"
    }
   ],
   "source": [
    "qt.ewmaVol(trataDados, 249)"
   ]
  },
  {
   "cell_type": "code",
   "execution_count": null,
   "metadata": {},
   "outputs": [
    {
     "name": "stdout",
     "output_type": "stream",
     "text": [
      "0.014518260153738211 0.016917667855646197\n"
     ]
    }
   ],
   "source": [
    "print(np.sqrt(mudou['EWMA Vol'].sum()), mudou['Returns'].std())"
   ]
  },
  {
   "cell_type": "code",
   "execution_count": 15,
   "metadata": {},
   "outputs": [],
   "source": [
    "retCurso = [0.00905760315335913, 0.00116765858322809, -0.000445880882688043, 0.000936576685556245, -0.0133409234034462, 0.0242409580641387, -0.0000198972308028678, 0.0145384754061046,\n",
    "-0.00491242177405804, 0.00795848403452326, -0.00266014517269042, -0.0011340969022422, -0.022296177324391, 0.0041328292712306, -0.00520785576845528, 0.0000738072846750981, -0.000102040568835449,\n",
    "0.0154919974877092, -0.000596651890560684, -0.011511825267322, 0.00578849006521631, 0.0236988048856839, -0.000839701827014094, 0.00945332548550071, 0, 0.00169999920172215,\n",
    "-0.0370557610399581, 0.0101100470640121, -0.0301323982766565, 0.00420075264731534, 0.0148972668160547, -0.014328048822395, 0.00474108510617421, 0.0067319519068576, 0.0113872585884205,\n",
    "0.0102793236008132, -0.00503727741232729, -0.0109625704891221, 0.00566649435443467, 0.0166707517956155, -0.0169351690661245, 0.000282430831438418, 0.0187465359308034, -0.00205175708608785,\n",
    "0.0154216696104752, 0.00647090317477539, 0.00766338237563868, 0.0091533192012041, -0.0104831766970178, 0, 0.00158516990225643, 0.010612812012321, 0.0150385592875961,\n",
    "0.0173232438184761,-0.00433663242462123, 0.00523166378529383, 0.00423306862621464, -0.000751699317777188, -0.00302357684348198, -0.000634294822613457, 0.0066401162290608, 0.00090475412260016,\n",
    "0.00959279637579558, -0.0246147372364093, 0, -0.0248908749302423, -0.00245796894162398, 0.0398266902755089, 0.00165538280434618, -0.0140187425729859, -0.0325223879818402,\n",
    "-0.0329643521931682, 0.00800814280869777, 0, 0.0184697772918927, -0.0162748694356685, 0.00320040983448844, 0.0184869490155057, 0.0144784033212888, 0.00050746943683011, -0.00952442256635422,\n",
    "0.00266387471530916, 0.0210597689244219, -0.029734549880281, 0.0150826772867185, -0.0387653223352172, 0.0136050592086181, -0.00803101923150562, 0.0210008970156805, 0.00533899727034259,\n",
    "-0.0120139576385995, -0.00289980135660273, -0.0218510157416568, 0.00172275054741045, -0.0180236121211385, 0.00316154092996435, -0.000121925825259828, -0.0218883543897964, 0.00826268144490561,\n",
    "0.00110501574339184, -0.00678792058913524]\n",
    "\n",
    "dataCurso = ['2016-08-04', '2016-08-05', '2016-08-08', '2016-08-09', '2016-08-10', '2016-08-11', '2016-08-12', '2016-08-15', '2016-08-16', '2016-08-17', '2016-08-18',\n",
    "'2016-08-19', '2016-08-22', '2016-08-23', '2016-08-24', '2016-08-25', '2016-08-26', '2016-08-29', '2016-08-30', '2016-08-31', '2016-09-01', '2016-09-02', '2016-09-05', '2016-09-06',\n",
    "'2016-09-07', '2016-09-08', '2016-09-09', '2016-09-12', '2016-09-13', '2016-09-14', '2016-09-15', '2016-09-16', '2016-09-19', '2016-09-20', '2016-09-21', '2016-09-22', '2016-09-23',\n",
    "'2016-09-26', '2016-09-27', '2016-09-28', '2016-09-29', '2016-09-30', '2016-10-03', '2016-10-04', '2016-10-05', '2016-10-06', '2016-10-07', '2016-10-10', '2016-10-11', '2016-10-12',\n",
    "'2016-10-13', '2016-10-14', '2016-10-17', '2016-10-18', '2016-10-19', '2016-10-20', '2016-10-21', '2016-10-24', '2016-10-25', '2016-10-26', '2016-10-27', '2016-10-28', '2016-10-31',\n",
    "'2016-11-01', '2016-11-02', '2016-11-03', '2016-11-04', '2016-11-07', '2016-11-08', '2016-11-09', '2016-11-10', '2016-11-11', '2016-11-14', '2016-11-15', '2016-11-16', '2016-11-17',\n",
    "'2016-11-18', '2016-11-21', '2016-11-22', '2016-11-23', '2016-11-24', '2016-11-25', '2016-11-28', '2016-11-29', '2016-11-30', '2016-12-01', '2016-12-02', '2016-12-05', '2016-12-06',\n",
    "'2016-12-07', '2016-12-08', '2016-12-09', '2016-12-12', '2016-12-13', '2016-12-14', '2016-12-15', '2016-12-16', '2016-12-19', '2016-12-20', '2016-12-21', '2016-12-22']"
   ]
  },
  {
   "cell_type": "code",
   "execution_count": 16,
   "metadata": {},
   "outputs": [
    {
     "data": {
      "text/plain": [
       "2016-08-04    0.009058\n",
       "2016-08-05    0.001168\n",
       "2016-08-08   -0.000446\n",
       "2016-08-09    0.000937\n",
       "2016-08-10   -0.013341\n",
       "                ...   \n",
       "2016-12-16   -0.000122\n",
       "2016-12-19   -0.021888\n",
       "2016-12-20    0.008263\n",
       "2016-12-21    0.001105\n",
       "2016-12-22   -0.006788\n",
       "Name: Returns, Length: 101, dtype: float64"
      ]
     },
     "execution_count": 16,
     "metadata": {},
     "output_type": "execute_result"
    }
   ],
   "source": [
    "retCurso = pd.Series(data=retCurso, index=dataCurso, name='Returns')\n",
    "retCurso\n",
    "#trataDados"
   ]
  },
  {
   "cell_type": "code",
   "execution_count": 25,
   "metadata": {},
   "outputs": [
    {
     "data": {
      "text/plain": [
       "numpy.float64"
      ]
     },
     "execution_count": 25,
     "metadata": {},
     "output_type": "execute_result"
    }
   ],
   "source": [
    "type(qt.ewmaVol(retCurso, 101))"
   ]
  },
  {
   "cell_type": "code",
   "execution_count": 24,
   "metadata": {},
   "outputs": [
    {
     "name": "stdout",
     "output_type": "stream",
     "text": [
      "[*********************100%***********************]  1 of 1 completed\n"
     ]
    },
    {
     "data": {
      "text/plain": [
       "pandas.core.series.Series"
      ]
     },
     "execution_count": 24,
     "metadata": {},
     "output_type": "execute_result"
    }
   ],
   "source": [
    "teststring = DataYFinance('ABEV3.SA')\n",
    "adjCloseteststring = teststring.getAdjclose('2022-08-01', '2022-08-10')\n",
    "type(adjCloseteststring)"
   ]
  },
  {
   "cell_type": "code",
   "execution_count": 28,
   "metadata": {},
   "outputs": [
    {
     "data": {
      "text/plain": [
       "numpy.float64"
      ]
     },
     "execution_count": 28,
     "metadata": {},
     "output_type": "execute_result"
    }
   ],
   "source": [
    "type(teststring.aVol(adjCloseteststring))"
   ]
  }
 ],
 "metadata": {
  "kernelspec": {
   "display_name": "Python 3.9.13 64-bit (windows store)",
   "language": "python",
   "name": "python3"
  },
  "language_info": {
   "codemirror_mode": {
    "name": "ipython",
    "version": 3
   },
   "file_extension": ".py",
   "mimetype": "text/x-python",
   "name": "python",
   "nbconvert_exporter": "python",
   "pygments_lexer": "ipython3",
   "version": "3.9.13"
  },
  "orig_nbformat": 4,
  "vscode": {
   "interpreter": {
    "hash": "b7f22e608a9410c9a00adbb49e3cb6a72010c497ae6b30c9496ff58de178a89c"
   }
  }
 },
 "nbformat": 4,
 "nbformat_minor": 2
}
